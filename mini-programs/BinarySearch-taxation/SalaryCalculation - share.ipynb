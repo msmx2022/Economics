{
 "cells": [
  {
   "cell_type": "code",
   "execution_count": 1,
   "metadata": {},
   "outputs": [],
   "source": [
    "import numpy as np"
   ]
  },
  {
   "cell_type": "code",
   "execution_count": 24,
   "metadata": {},
   "outputs": [],
   "source": [
    "# 计算应缴纳所得税\n",
    "def calculate_income_tax_deduction(input_data):\n",
    "    if input_data <= 162500:\n",
    "        return input_data * 0.05105\n",
    "    elif 162501 <= input_data <= 275000:\n",
    "        return input_data * 0.1021 - 8296\n",
    "    elif 275001 <= input_data <= 579166:\n",
    "        return input_data * 0.2042 - 36374\n",
    "    elif 579167 <= input_data <= 750000:\n",
    "        return input_data * 0.23483 - 54113\n",
    "    elif 750001 <= input_data <= 1500000:\n",
    "        return input_data * 0.33693 - 130688\n",
    "    elif 1500001 <= input_data <= 3333333:\n",
    "        return input_data * 0.4084 - 237893\n",
    "    elif input_data >= 3333334:\n",
    "        return input_data * 0.45945 - 408061\n",
    "\n",
    "# 取十位整数（因为税率表中规定:税额不满10日元的四舍五入）\n",
    "def round_to_nearest_ten(number):\n",
    "    return round(number / 10 + 0.1) * 10\n",
    "\n",
    "\n",
    "# 二分搜索算法\n",
    "def calculate_gross_salary(net_pay):\n",
    "    left = 0\n",
    "    right = net_pay * 2\n",
    "    predict_net_pay = 0\n",
    "    while left <= right:\n",
    "        mid = (left + right) / 2  \n",
    "        predict_net_pay = mid - round_to_nearest_ten(calculate_income_tax_deduction(mid))\n",
    "        pay_before_tax = round_to_nearest_ten(mid)\n",
    "        if abs(predict_net_pay - net_pay) <= 0.1:\n",
    "            break\n",
    "        elif predict_net_pay < net_pay:\n",
    "            left = mid + 0.1\n",
    "        else:\n",
    "            right = mid - 0.1\n",
    "        \n",
    "    return pay_before_tax"
   ]
  },
  {
   "cell_type": "code",
   "execution_count": 25,
   "metadata": {},
   "outputs": [
    {
     "data": {
      "text/plain": [
       "344470"
      ]
     },
     "execution_count": 25,
     "metadata": {},
     "output_type": "execute_result"
    }
   ],
   "source": [
    "calculate_gross_salary(310500)"
   ]
  },
  {
   "cell_type": "code",
   "execution_count": 23,
   "metadata": {},
   "outputs": [
    {
     "data": {
      "text/plain": [
       "310500"
      ]
     },
     "execution_count": 23,
     "metadata": {},
     "output_type": "execute_result"
    }
   ],
   "source": [
    "344470 - round_to_nearest_ten(344470*0.20420-36374)"
   ]
  },
  {
   "cell_type": "code",
   "execution_count": null,
   "metadata": {},
   "outputs": [],
   "source": []
  }
 ],
 "metadata": {
  "kernelspec": {
   "display_name": "Python 3",
   "language": "python",
   "name": "python3"
  },
  "language_info": {
   "codemirror_mode": {
    "name": "ipython",
    "version": 3
   },
   "file_extension": ".py",
   "mimetype": "text/x-python",
   "name": "python",
   "nbconvert_exporter": "python",
   "pygments_lexer": "ipython3",
   "version": "3.10.4"
  },
  "orig_nbformat": 4
 },
 "nbformat": 4,
 "nbformat_minor": 2
}
